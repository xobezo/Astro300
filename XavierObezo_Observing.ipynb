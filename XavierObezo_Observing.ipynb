{
 "cells": [
  {
   "cell_type": "markdown",
   "metadata": {},
   "source": [
    "# Xavier Obezo - Observing with `astroplan`"
   ]
  },
  {
   "cell_type": "code",
   "execution_count": 1,
   "metadata": {},
   "outputs": [],
   "source": [
    "%matplotlib inline\n",
    "import matplotlib.pyplot as plt\n",
    "\n",
    "import numpy as np\n",
    "import pandas as pd\n",
    "\n",
    "import astropy.units as u\n",
    "from astropy.time import Time\n",
    "import pytz\n",
    "\n",
    "from astropy.coordinates import SkyCoord\n",
    "from astroplan import Observer, FixedTarget"
   ]
  },
  {
   "cell_type": "markdown",
   "metadata": {},
   "source": [
    "# Part I\n",
    "\n",
    "## Set up the Locations\n",
    "\n",
    "- Volcán Wolf, Galápagos Islands\n",
    "- Point Nemo, Pacific Ocean\n",
    "- Puppebu, Jan Mayen\n",
    "\n",
    "---"
   ]
  },
  {
   "cell_type": "code",
   "execution_count": 2,
   "metadata": {},
   "outputs": [],
   "source": [
    "Wolf = Observer(longitude = -91.333611 * u.deg,\n",
    "                    latitude = 0.041944 * u.deg,\n",
    "                    elevation = 1707 * u.m,\n",
    "                    timezone = 'Pacific/Galapagos',\n",
    "                    name = \"Volcán Wolf, Galápagos Islands\"\n",
    "                    )"
   ]
  },
  {
   "cell_type": "code",
   "execution_count": 3,
   "metadata": {},
   "outputs": [],
   "source": [
    "Nemo = Observer(longitude = -123.393333 * u.deg,\n",
    "                    latitude = -48.876667 * u.deg,\n",
    "                    elevation = 0 * u.m,\n",
    "                    timezone = 'America/Vancouver',\n",
    "                    name = \"Point Nemo, Pacific Ocean\"\n",
    "                    )"
   ]
  },
  {
   "cell_type": "code",
   "execution_count": 16,
   "metadata": {},
   "outputs": [],
   "source": [
    "Puppebu = Observer(longitude = -8.679722 * u.deg,\n",
    "                    latitude = 70.9675 * u.deg,\n",
    "                    elevation = 2277 * u.m,\n",
    "                    timezone = 'Europe/Busingen',\n",
    "                    name = \"Puppebu, Jan Mayen\"\n",
    "                    )"
   ]
  },
  {
   "cell_type": "code",
   "execution_count": 5,
   "metadata": {},
   "outputs": [],
   "source": []
  },
  {
   "cell_type": "markdown",
   "metadata": {},
   "source": [
    "# Part II\n",
    "\n",
    "* Determine the Altitude, Azimuth, and Airmass of the __Target__ at local midnight, on the __Observation date__, for each of the three sites.\n",
    "* __Observation date__: Mar 21, 2019\n",
    "* __Target__: `3C 273`\n",
    "* The output should look like:\n",
    "  * `At LOCATION at midnight OBJECT will have an altitude of ALT, an azimuth of AZ, and an aimass of AIRMASS.`\n",
    "  * All values with 1 decimal"
   ]
  },
  {
   "cell_type": "code",
   "execution_count": 6,
   "metadata": {},
   "outputs": [],
   "source": [
    "target = FixedTarget.from_name('3C 273')\n",
    "# Input is the observer\n",
    "def Find_Info(obs):\n",
    "    current_time = Time(\"2019-03-12 \")\n",
    "    midnight_time = obs.midnight(current_time, which='next')\n",
    "    where_to_look = obs.altaz(midnight_time, target)\n",
    "    #output is a tuple\n",
    "    # [altitude, azimuth, airmass]\n",
    "    return [where_to_look.alt,where_to_look.az,where_to_look.secz]"
   ]
  },
  {
   "cell_type": "markdown",
   "metadata": {},
   "source": [
    "### Location 1"
   ]
  },
  {
   "cell_type": "code",
   "execution_count": 1,
   "metadata": {},
   "outputs": [
    {
     "ename": "NameError",
     "evalue": "name 'FixedTarget' is not defined",
     "output_type": "error",
     "traceback": [
      "\u001b[0;31m---------------------------------------------------------------------------\u001b[0m",
      "\u001b[0;31mNameError\u001b[0m                                 Traceback (most recent call last)",
      "\u001b[0;32m<ipython-input-1-c9f40be7bca3>\u001b[0m in \u001b[0;36m<module>\u001b[0;34m\u001b[0m\n\u001b[0;32m----> 1\u001b[0;31m \u001b[0mnewtar\u001b[0m \u001b[0;34m=\u001b[0m \u001b[0mFixedTarget\u001b[0m\u001b[0;34m.\u001b[0m\u001b[0mfrom_name\u001b[0m\u001b[0;34m(\u001b[0m\u001b[0;34m'HD 86012'\u001b[0m\u001b[0;34m)\u001b[0m\u001b[0;34m\u001b[0m\u001b[0;34m\u001b[0m\u001b[0m\n\u001b[0m",
      "\u001b[0;31mNameError\u001b[0m: name 'FixedTarget' is not defined"
     ]
    }
   ],
   "source": [
    "newtar = FixedTarget.from_name('HD 86012')"
   ]
  },
  {
   "cell_type": "code",
   "execution_count": 7,
   "metadata": {},
   "outputs": [],
   "source": [
    "answer1 = Find_Info(Wolf)"
   ]
  },
  {
   "cell_type": "code",
   "execution_count": 13,
   "metadata": {},
   "outputs": [
    {
     "name": "stdout",
     "output_type": "stream",
     "text": [
      "At Volcán Wolf, Galápagos Islands at midnight 3C 273 will have an altitude of 82.7 deg, an azimuth of 74.9 deg, and an aimass of 1.0.\n"
     ]
    }
   ],
   "source": [
    "print(\"At {3} at midnight {4} will have an altitude of {0:.1f}, an azimuth of {1:.1f}, and an aimass of {2:.1f}.\".format(*answer1,Wolf.name,target.name))"
   ]
  },
  {
   "cell_type": "markdown",
   "metadata": {},
   "source": [
    "### Location 2"
   ]
  },
  {
   "cell_type": "code",
   "execution_count": 9,
   "metadata": {},
   "outputs": [],
   "source": [
    "answer2 = Find_Info(Nemo)"
   ]
  },
  {
   "cell_type": "code",
   "execution_count": 14,
   "metadata": {},
   "outputs": [
    {
     "name": "stdout",
     "output_type": "stream",
     "text": [
      "At Point Nemo, Pacific Ocean at midnight 3C 273 will have an altitude of 38.8 deg, an azimuth of 9.1 deg, and an aimass of 1.6.\n"
     ]
    }
   ],
   "source": [
    "print(\"At {3} at midnight {4} will have an altitude of {0:.1f}, an azimuth of {1:.1f}, and an aimass of {2:.1f}.\".format(*answer2,Nemo.name,target.name))"
   ]
  },
  {
   "cell_type": "markdown",
   "metadata": {},
   "source": [
    "### Location 3"
   ]
  },
  {
   "cell_type": "code",
   "execution_count": 17,
   "metadata": {},
   "outputs": [],
   "source": [
    "answer3 = Find_Info(Puppebu)"
   ]
  },
  {
   "cell_type": "code",
   "execution_count": 18,
   "metadata": {},
   "outputs": [
    {
     "name": "stdout",
     "output_type": "stream",
     "text": [
      "At Puppebu, Jan Mayen at midnight 3C 273 will have an altitude of 20.8 deg, an azimuth of 171.9 deg, and an aimass of 2.8.\n"
     ]
    }
   ],
   "source": [
    "print(\"At {3} at midnight {4} will have an altitude of {0:.1f}, an azimuth of {1:.1f}, and an aimass of {2:.1f}.\".format(*answer3,Puppebu.name,target.name))"
   ]
  },
  {
   "cell_type": "markdown",
   "metadata": {
    "collapsed": true
   },
   "source": [
    "### Due Wed Mar 13 - 1 pm\n",
    "- `Make sure to change the filename to your name!`\n",
    "- `Make sure to change the Title to your name!`\n",
    "- `File -> Download as -> HTML (.html)`\n",
    "- `upload your .html and .ipynb file to the class Canvas page`"
   ]
  }
 ],
 "metadata": {
  "anaconda-cloud": {},
  "kernelspec": {
   "display_name": "Python 3",
   "language": "python",
   "name": "python3"
  }
 },
 "nbformat": 4,
 "nbformat_minor": 1
}
