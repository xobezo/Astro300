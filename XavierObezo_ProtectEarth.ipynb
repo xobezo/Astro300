{
 "cells": [
  {
   "cell_type": "markdown",
   "metadata": {},
   "source": [
    "# Xavier Obezo - Protect Earth"
   ]
  },
  {
   "cell_type": "markdown",
   "metadata": {},
   "source": [
    "The goal of this project is to use your Astro 300 python programming skills to answer the 3 questions below.\n",
    "\n",
    "Your aim is to:\n",
    "\n",
    "- Create a well commmented python notebook that shows your programming.\n",
    "- Keep to the class style guide (good variable names).\n",
    "- Do not hard code any common physical constants.\n",
    "- Easy to read and neat output that **clearly** shows the answers to the questions.\n",
    "- There should be no calculations outside of the `class` definition.\n",
    "\n",
    "The starting point is the dataset **`./Data/PHA.csv`** that contains data for 10 objects classified as potentially hazardous asteroids."
   ]
  },
  {
   "cell_type": "markdown",
   "metadata": {},
   "source": [
    "## Due between Fri Feb 8 (5pm) - Tue Feb 12 (Noon)\n",
    " * `Submit < 5pm Feb 8` - **30 pts** possible.\n",
    " * `5pm Feb 8 < Submit < 5pm Feb 10` - **20** pts possible.\n",
    " * `5pm Feb 10 < Submit < Noon Feb 12` - **10** pts possible.\n",
    " * `File -> Download as... -> HTML (right-click to save HTML file)`\n",
    " * `Upload HTML file to Canvas`\n",
    " * `Make sure to change the filename to your name!`\n",
    " * `Make sure to change the Title to your name!`"
   ]
  },
  {
   "cell_type": "code",
   "execution_count": 1,
   "metadata": {},
   "outputs": [],
   "source": [
    "import numpy as np\n",
    "import pandas as pd\n",
    "\n",
    "from astropy import units as u\n",
    "from astropy import constants as const"
   ]
  },
  {
   "cell_type": "code",
   "execution_count": 2,
   "metadata": {},
   "outputs": [],
   "source": [
    "#I don't really know where the best place to define these would be\n",
    "ton_TNT = u.def_unit(\"Tons of TNT\", 4.18e9*u.J)\n",
    "gigaton_TNT =u.def_unit(\"Gigatons of TNT\", 1e9 *ton_TNT)\n",
    "\n",
    "class SpaceRock(object):\n",
    "    \n",
    "    def __init__(self, name = None, ab_mag = None, albedo = None, \n",
    "                 semi_major= None, ecc = None,\n",
    "                 density = 3000 *u.kg/(u.m*u.m*u.m)):\n",
    "        \"\"\"\n",
    "        Parameters\n",
    "        ----------\n",
    "        name : string\n",
    "            Name of the target\n",
    "        ab_mag : array-like\n",
    "            Absolute Magnitude of each Asteroid\n",
    "        albedo : array-like\n",
    "            Albedo of each Asteroid\n",
    "        semi_major : array-like\n",
    "            Semi Major Axis of each Asteroid in AU\n",
    "        ecc : array-like\n",
    "            Eccentricity of each Asteroid\n",
    "        \"\"\"\n",
    "        self.name = name\n",
    "        self.ab_mag = ab_mag\n",
    "        self.albedo = albedo\n",
    "        self.semi_major = semi_major * u.au\n",
    "        self.ecc = ecc\n",
    "        self.density = density\n",
    "    \n",
    "    def diameter(self):\n",
    "        \"\"\"\n",
    "        Determine the diameter (in km) of the Asteroids\n",
    "        \"\"\"\n",
    "        result = (1329.0 / np.sqrt(self.albedo)) * (10 ** (-0.2 * self.ab_mag))\n",
    "        return result * u.km\n",
    "    \n",
    "    def orbital_velocity(self, distance):\n",
    "        \"\"\"\n",
    "        Determines the velocity at a given distance\n",
    "        \"\"\"\n",
    "        # v= sqrt(GM * (2/r - 1/a) )\n",
    "        velocity = np.sqrt(const.G*const.M_sun *\n",
    "                           (2/distance - 1/self.semi_major) )\n",
    "        return velocity.decompose()\n",
    "    \n",
    "    def collision_velocity(self):\n",
    "        \"\"\"\n",
    "        Determines the velocity if it were to collide with Earth\n",
    "        \"\"\"\n",
    "        V_earth = 30 * u.km/u.s\n",
    "        V_encounter = self.orbital_velocity(1*u.au) - V_earth\n",
    "        \n",
    "        V_escape = 11.2 * u.km/u.s\n",
    "        V_impact = np.sqrt(V_escape**2 + V_encounter**2)\n",
    "        \n",
    "        return V_impact.decompose()\n",
    "    \n",
    "    def mass(self):\n",
    "        \"\"\"\n",
    "        Finds the mass of each Asteriod\n",
    "        \"\"\"\n",
    "        \n",
    "        mass = self.density * (1/6)*np.pi*self.diameter()**3\n",
    "        return mass.decompose()\n",
    "    \n",
    "    def kinetic_energy(self):\n",
    "        \"\"\"\n",
    "        Finds the kinetic energy in joules\n",
    "        \"\"\"\n",
    "        #KE = 1/2 * mv^2\n",
    "        KE = 1/2 * self.mass() * self.collision_velocity()**2\n",
    "        \n",
    "        return KE.to(u.joule)\n",
    "    \n",
    "    def kinetic_energy_TNT(self):\n",
    "        \"\"\"\n",
    "        Finds the kinetic energy in terms of gigatons of TNT\n",
    "        \"\"\"\n",
    "        return self.kinetic_energy().to(gigaton_TNT)\n",
    "    \n",
    "    def potential_energy(self):\n",
    "        \"\"\"\n",
    "        Finds energy needed to destroy asteriod in joules\n",
    "        \"\"\"\n",
    "        #6/5* GM^2/D\n",
    "        PE = 6/5 * const.G*self.mass()**2/self.diameter()\n",
    "        return PE.to(u.joule)\n",
    "    \n",
    "    def potential_energy_TNT(self):\n",
    "        \"\"\"\n",
    "        Finds potential energy in terms of tons of TNT\n",
    "        \"\"\"\n",
    "        return self.potential_energy().to(ton_TNT)\n",
    "    \n",
    "    def crater_size(self):\n",
    "        \"\"\"\n",
    "        Finds the size of a crater hitting Earth from the asteriod\n",
    "        \"\"\"\n",
    "        #Couldn't find Earths density on the constants page so here's from google\n",
    "        targDensity = 5.51 * u.g/u.cm**3\n",
    "        size = 1.8*self.density**0.11 * targDensity**-0.33 * const.g0**-0.22 *self.diameter()**0.13 * self.kinetic_energy()**0.22\n",
    "        # Wierd issue: getting unit as m^1 which I guess is not equal to u.m\n",
    "        # To fix this I'm going to force the unit. But I don't like this solution\n",
    "        # I know the decompose will give units in meters for this case. If I were to want to push this code\n",
    "        #   I would want to fix this. But I don't know how else to.\n",
    "        #   I think this issue is due to approximation of the unit. It isn't 1 but really close.\n",
    "        size = size.decompose().value * u.m\n",
    "        size = size.to(u.km)\n",
    "        return size\n",
    "\n",
    "# Proof that it really is in meters but it won't let me change it's type (for crater_size)\n",
    "# In order for these commented out parts to work you would need to comment out the forced unit parts of the code\n",
    "#asteriods.crater_size()[0].decompose() * u.m**1\n",
    "# This code below will throw an error\n",
    "\n",
    "\n"
   ]
  },
  {
   "cell_type": "markdown",
   "metadata": {},
   "source": [
    "## Read in the dataset `./Data/PHA.csv`"
   ]
  },
  {
   "cell_type": "code",
   "execution_count": 3,
   "metadata": {},
   "outputs": [],
   "source": [
    "table = pd.read_csv('./Data/PHA.csv')"
   ]
  },
  {
   "cell_type": "code",
   "execution_count": 11,
   "metadata": {},
   "outputs": [],
   "source": [
    "#name = None, ab_mag = None, albedo = None, semi_major= None, ecc = None\n",
    "new = pd.read_csv('Rocks.csv')"
   ]
  },
  {
   "cell_type": "markdown",
   "metadata": {},
   "source": [
    "## ...and use the data to call `SpaceRock`"
   ]
  },
  {
   "cell_type": "code",
   "execution_count": 13,
   "metadata": {},
   "outputs": [
    {
     "data": {
      "text/latex": [
       "$[120.89235,~212.19485,~98.292317,~255.93228,~80.735766,~113.48183,~103.06139,~105.61755,~108.33645,~115.88594,~156.55239,~107.59618,~173.9842,~100.17817,~65.864242,~70.633092,~214.57714,~124.14845,~126.97222,~221.78526,~149.80897,~99.813865,~147.82606,~302.38557,~115.37979,~165.72136,~69.827327,~113.25787,~112.56588,~93.446074,~164.73578,~60.191615,~82.027144,~95.405452,~103.12724,~98.078803,~71.784511,~58.099146,~122.53835,~138.08642,~122.14427,~83.412803,~85.861095,~46.528971,~118.65508,~55.901519,~69.237876,~120.53763,~66.456912,~78.374358] \\; \\mathrm{km}$"
      ],
      "text/plain": [
       "<Quantity [120.89235138, 212.19484847,  98.29231689, 255.93228029,\n",
       "            80.73576608, 113.48183465, 103.06138779, 105.61755433,\n",
       "           108.33644849, 115.88593881, 156.55239169, 107.59617502,\n",
       "           173.9842008 , 100.17817157,  65.86424222,  70.63309154,\n",
       "           214.57713626, 124.14845008, 126.97222292, 221.78526349,\n",
       "           149.80896907,  99.81386504, 147.82605694, 302.38556942,\n",
       "           115.37978559, 165.72136026,  69.82732661, 113.25787015,\n",
       "           112.56588061,  93.4460744 , 164.73577588,  60.19161543,\n",
       "            82.02714378,  95.40545153, 103.12723872,  98.07880252,\n",
       "            71.78451052,  58.09914639, 122.53834916, 138.08642121,\n",
       "           122.14426895,  83.41280316,  85.86109506,  46.52897064,\n",
       "           118.65508256,  55.9015188 ,  69.23787572, 120.53762508,\n",
       "            66.45691237,  78.37435821] km>"
      ]
     },
     "execution_count": 13,
     "metadata": {},
     "output_type": "execute_result"
    }
   ],
   "source": [
    "\n",
    "\n",
    "names = new['Name'].values\n",
    "ab_mags = new['H'].values\n",
    "albedos = new['A'].values\n",
    "eccentricities = table['ecc'].values\n",
    "semi_majors = table['a'].values\n",
    "asteriods = SpaceRock(name = names, ab_mag = ab_mags,\n",
    "                      albedo = albedos, semi_major= semi_majors,\n",
    "                      ecc = eccentricities)\n",
    "asteriods.diameter()"
   ]
  },
  {
   "cell_type": "markdown",
   "metadata": {},
   "source": [
    "---\n",
    "\n",
    "## There should **only** be calls to the `SpaceRock` class below this line (and formatting)\n",
    "\n",
    "---"
   ]
  },
  {
   "cell_type": "markdown",
   "metadata": {},
   "source": [
    "## 1 - Determine the speed of each of the PHAs at **r** = 1 AU.\n",
    "\n",
    "\n",
    "* Make sure you use units.\n",
    "* Express your answer SI units with 2 digits after the decimal.\n",
    "* The output should be a series of lines like:\n",
    "  * `The speed of NAME at 1 AU is VALUE UNIT.` "
   ]
  },
  {
   "cell_type": "code",
   "execution_count": 6,
   "metadata": {},
   "outputs": [
    {
     "name": "stdout",
     "output_type": "stream",
     "text": [
      "The speed of Icarus at 1 AU is 30.87 km / s.\n",
      "The speed of Geographos at 1 AU is 32.63 km / s.\n",
      "The speed of Apollo at 1 AU is 34.22 km / s.\n",
      "The speed of Midas at 1 AU is 35.72 km / s.\n",
      "The speed of Adonis at 1 AU is 36.05 km / s.\n",
      "The speed of Phaethon at 1 AU is 32.80 km / s.\n",
      "The speed of Dionysus at 1 AU is 37.03 km / s.\n",
      "The speed of Wilson-Harrington at 1 AU is 37.92 km / s.\n",
      "The speed of Vishnu at 1 AU is 30.62 km / s.\n",
      "The speed of Toutatis at 1 AU is 37.73 km / s.\n"
     ]
    }
   ],
   "source": [
    "names1 = asteriods.name\n",
    "for idx,value in enumerate(asteriods.orbital_velocity(1*u.au)):\n",
    "    print(\"The speed of {0:s} at 1 AU is {1:.2f}.\"\n",
    "          .format(names1[idx],value.to(u.km/u.s)))\n"
   ]
  },
  {
   "cell_type": "markdown",
   "metadata": {},
   "source": [
    "## 2 - Determine the kinetic energy each PHA would have if they impacted the surface of the Earth\n",
    "\n",
    "- Assume asteroids have $\\rho$ = 3,000 kg/m$^3$\n",
    "- Express your answer in gigatons of TNT with 1 digit after the decimal\n",
    "- 1 ton TNT $= 4.18 \\times 10^9$ J\n",
    "- 1 gigaton = 1e9 tons\n",
    "\n",
    "* The output should be a series of lines like:\n",
    "  * `The kinetic energy of NAME hitting the Earth is VALUE UNIT.` "
   ]
  },
  {
   "cell_type": "code",
   "execution_count": 7,
   "metadata": {},
   "outputs": [
    {
     "name": "stdout",
     "output_type": "stream",
     "text": [
      "The kinetic energy of Icarus hitting the Earth is 11.1 Gigatons of TNT.\n",
      "The kinetic energy of Geographos hitting the Earth is 134.4 Gigatons of TNT.\n",
      "The kinetic energy of Apollo hitting the Earth is 89.9 Gigatons of TNT.\n",
      "The kinetic energy of Midas hitting the Earth is 423.3 Gigatons of TNT.\n",
      "The kinetic energy of Adonis hitting the Earth is 3.0 Gigatons of TNT.\n",
      "The kinetic energy of Phaethon hitting the Earth is 2799.8 Gigatons of TNT.\n",
      "The kinetic energy of Dionysus hitting the Earth is 174.1 Gigatons of TNT.\n",
      "The kinetic energy of Wilson-Harrington hitting the Earth is 1891.1 Gigatons of TNT.\n",
      "The kinetic energy of Vishnu hitting the Earth is 1.3 Gigatons of TNT.\n",
      "The kinetic energy of Toutatis hitting the Earth is 431.7 Gigatons of TNT.\n"
     ]
    }
   ],
   "source": [
    "names2 = asteriods.name\n",
    "for idx,value in enumerate(asteriods.kinetic_energy_TNT()):\n",
    "    print(\"The kinetic energy of {0:s} hitting the Earth is {1:.1f}.\"\n",
    "          .format(names2[idx],value))\n"
   ]
  },
  {
   "cell_type": "markdown",
   "metadata": {
    "collapsed": true
   },
   "source": [
    "## 3 - Determine how many nuclear weapons, with a yield of 1 ton-TNT, will be needed to destroy each of the PHAs.\n",
    "\n",
    "- Express your answer in the number of 1 ton-TNT weapons with 1 digit after the decimal\n",
    "- 1 ton TNT $= 4.18 \\times 10^9$ J\n",
    "\n",
    "* The output should be a series of lines like:\n",
    "  * `It would take VALUE 1 ton nuclear weaponds to destroy NAME.` "
   ]
  },
  {
   "cell_type": "code",
   "execution_count": 8,
   "metadata": {},
   "outputs": [
    {
     "name": "stdout",
     "output_type": "stream",
     "text": [
      "It would take 13.3 1 ton nuclear weapons to destroy Icarus.\n",
      "It would take 787.0 1 ton nuclear weapons to destroy Geographos.\n",
      "It would take 352.7 1 ton nuclear weapons to destroy Apollo.\n",
      "It would take 3957.4 1 ton nuclear weapons to destroy Midas.\n",
      "It would take 1.0 1 ton nuclear weapons to destroy Adonis.\n",
      "It would take 122681.6 1 ton nuclear weapons to destroy Phaethon.\n",
      "It would take 762.0 1 ton nuclear weapons to destroy Dionysus.\n",
      "It would take 35878.6 1 ton nuclear weapons to destroy Wilson-Harrington.\n",
      "It would take 0.4 1 ton nuclear weapons to destroy Vishnu.\n",
      "It would take 3143.5 1 ton nuclear weapons to destroy Toutatis.\n"
     ]
    }
   ],
   "source": [
    "names3 = asteriods.name\n",
    "for idx,value in enumerate(asteriods.potential_energy_TNT()):\n",
    "    print(\"It would take {1:.1f} 1 ton nuclear weapons to destroy {0:s}.\"\n",
    "          .format(names3[idx],value.value))\n"
   ]
  },
  {
   "cell_type": "markdown",
   "metadata": {},
   "source": [
    "----\n",
    "\n",
    "# <font color=blue>Ravenclaw</font>"
   ]
  },
  {
   "cell_type": "markdown",
   "metadata": {},
   "source": [
    "## 4 - Determine the size of the crater each PHA would make if they impacted the surface of the Earth\n",
    "\n",
    "- Assume asteroids and the Earth's surface have a density = 3,000 kg/m$^3$\n",
    "* The output should be a series of lines like:\n",
    "  * `If NAME hit the Earth, it would form a crater with a size of VALUE UNIT.`"
   ]
  },
  {
   "cell_type": "code",
   "execution_count": 9,
   "metadata": {},
   "outputs": [
    {
     "name": "stdout",
     "output_type": "stream",
     "text": [
      "If Icarus hit the Earth, it would form a crater with a size of 7.7 km.\n",
      "If Geographos hit the Earth, it would form a crater with a size of 14.8 km.\n",
      "If Apollo hit the Earth, it would form a crater with a size of 13.3 km.\n",
      "If Midas hit the Earth, it would form a crater with a size of 19.9 km.\n",
      "If Adonis hit the Earth, it would form a crater with a size of 5.4 km.\n",
      "If Phaethon hit the Earth, it would form a crater with a size of 33.0 km.\n",
      "If Dionysus hit the Earth, it would form a crater with a size of 15.7 km.\n",
      "If Wilson-Harrington hit the Earth, it would form a crater with a size of 29.3 km.\n",
      "If Vishnu hit the Earth, it would form a crater with a size of 4.4 km.\n",
      "If Toutatis hit the Earth, it would form a crater with a size of 19.9 km.\n"
     ]
    }
   ],
   "source": [
    "names4 = asteriods.name\n",
    "for idx,value in enumerate(asteriods.crater_size()):\n",
    "    print(\"If {0:s} hit the Earth, it would form a crater with a size of {1:.1f}.\"\n",
    "          .format(names4[idx],value))"
   ]
  },
  {
   "cell_type": "markdown",
   "metadata": {},
   "source": [
    "---"
   ]
  },
  {
   "cell_type": "markdown",
   "metadata": {},
   "source": [
    "## Some Orbital Mechanics\n",
    "\n",
    "Kepler's first law says: *The orbit of every planet is an ellipse with the sun at one focus*. The Semimajor axis **a** and the eccentricity **ecc** parametrize the size and shape of the ellipse. The units of **a** in our dataset are Astronomical Units (AU), the average distance between the Sun and the Earth.\n",
    "\n",
    "![Orbit Diagram](images/Orbit.jpg)\n",
    "\n",
    "For a closed elliptical orbit (orbits gravitationally bound to the Sun), $ecc = \\sqrt{1 - {b^2}/{a^2}}$, where **a** and **b** are the semimajor and semiminor axes. As you can see from the equation, when **a** = **b**, **ecc** = 0 (a circle), and when **a** $>>$ **b**, **ecc** approaches 1. When **ecc** = 1, the orbit is a parabolic orbit (just bound). When **ecc** $>$ 1 the orbit is a hyperbolic orbit (unbound).\n",
    "\n",
    "---\n",
    "\n",
    "The speed of an object on an elliptical orbit around the Sun at a distance **r** from the Sun is:\n",
    "\n",
    "$$ \\large\n",
    "v\\ =\\ \\sqrt{GM_{\\odot}\\ \\left(\\frac{2}{r} - \\frac{1}{a}\\right)}\n",
    "$$\n",
    "\n",
    "Watch your units! Both `r` and `a` should have the same units\n",
    "\n",
    "---"
   ]
  },
  {
   "cell_type": "markdown",
   "metadata": {},
   "source": [
    "## Encountering the Earth\n",
    "\n",
    "The encounter speed of an asteroid meeting the Earth at 1 AU is (assuimg aligned prograde orbits):\n",
    "\n",
    "$$ \\large\n",
    "V_{\\textrm{encounter}}\\ =\\ V_{\\textrm{asteroid at 1AU}}\\ -\\ V_{\\textrm{Earth}}\n",
    "$$\n",
    "\n",
    "Where $V_{\\textrm{Earth}}\\ =\\ 30\\ \\textrm{km/s}$\n",
    "\n",
    "## Hitting the Earth\n",
    "\n",
    "The impact speed of an asteroid hitting the Earth is:\n",
    "\n",
    "$$ \\large\n",
    "V_{\\textrm{impact}}\\ =\\ \\sqrt{V_{\\textrm{encounter}}^2 + V_{\\textrm{escape}}^2}\n",
    "$$\n",
    "\n",
    "Where $V_{\\textrm{escape}}\\ = 11.2\\ \\textrm{km/s}$\n",
    "\n",
    "---"
   ]
  },
  {
   "cell_type": "markdown",
   "metadata": {},
   "source": [
    "## Blowing up an asteroid\n",
    "\n",
    "The self gravitational potential energy of a uniform sphere of mass (M) and diameter (D) is:\n",
    "\n",
    "$$ \\large\n",
    "PE \\ = \\ \\frac{6}{5} \\cdot \\frac{GM^2}{D}\n",
    "$$\n",
    "\n",
    "This is the amount of energy you need to give the sphere to move all of its components pieces infinitely far away (i.e. to destroy it!).\n",
    "\n",
    "Remember that the mass and diameter of the asteroid is derived from its absolute magnitude **H** and albedo **A**, and density."
   ]
  },
  {
   "cell_type": "markdown",
   "metadata": {},
   "source": [
    "---\n",
    "\n",
    "## Size of Crater\n",
    "\n",
    "This size of the crater formed by an impacting asteroid can be estimated by:\n",
    "\n",
    "$$ \\large\n",
    "\\textrm{Size of Crater} = 1.8\\ \\rho_{p}^{0.11}\\ \\rho_{t}^{-0.33}\\ g^{-0.22}\\ D^{0.13}\\ W^{0.22}\n",
    "$$\n",
    "\n",
    "Where\n",
    "\n",
    "* $\\rho_{p}$ is the asteroid density\n",
    "* $\\rho_{t}$ is the target density\n",
    "* $D$ is the asteroid diameter\n",
    "* $W$ is the kinetic energy of the asteroid hitting the Earth's surface\n",
    "\n",
    "### Important Note!!!!\n",
    "\n",
    "This type of equation is sometimes refered to as an *emperical scaling relation*\n",
    "\n",
    "- The units do not work out as written\n",
    "- You need to put all variables into the same unit system (such as mks)\n",
    "- Then use .value to just pull off the numerical value\n",
    "- The answer will be in whatever unit system you used (such as mks)\n",
    "\n",
    "- Remember: Do all of this work as a `method` in the `SpaceRock()` class!\n"
   ]
  },
  {
   "cell_type": "code",
   "execution_count": null,
   "metadata": {},
   "outputs": [],
   "source": []
  }
 ],
 "metadata": {
  "kernelspec": {
   "display_name": "Python 3",
   "language": "python",
   "name": "python3"
  },
  "language_info": {
   "codemirror_mode": {
    "name": "ipython",
    "version": 3
   },
   "file_extension": ".py",
   "mimetype": "text/x-python",
   "name": "python",
   "nbconvert_exporter": "python",
   "pygments_lexer": "ipython3",
   "version": "3.7.2"
  }
 },
 "nbformat": 4,
 "nbformat_minor": 1
}
