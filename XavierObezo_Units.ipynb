{
 "cells": [
  {
   "cell_type": "markdown",
   "metadata": {},
   "source": [
    "# Xavier Obezo - Units in Python"
   ]
  },
  {
   "cell_type": "markdown",
   "metadata": {},
   "source": [
    "* Use the `Astropy` units and constants packages to solve the following problems.\n",
    "* Do not hardcode any constants!\n",
    "* Unless asked, your units should be in the simplest SI units possible.\n",
    "* Your answers should be as sentences. For example:\n",
    "  * `The range would be 123 km.`"
   ]
  },
  {
   "cell_type": "code",
   "execution_count": 1,
   "metadata": {},
   "outputs": [
    {
     "data": {
      "text/plain": [
       "<astropy.units.core._UnitContext at 0x7fcc980a47f0>"
      ]
     },
     "execution_count": 1,
     "metadata": {},
     "output_type": "execute_result"
    }
   ],
   "source": [
    "import numpy as np\n",
    "\n",
    "from astropy import units as u\n",
    "from astropy import constants as const\n",
    "from astropy.units import imperial\n",
    "imperial.enable()"
   ]
  },
  {
   "cell_type": "markdown",
   "metadata": {},
   "source": [
    "### The range of a projectile launched with a velocity (v) at and angle ($\\theta$) is\n",
    "\n",
    "$$R\\ =\\  {v^2 \\over g}\\ sin(2\\theta)$$"
   ]
  },
  {
   "cell_type": "markdown",
   "metadata": {},
   "source": [
    "**Problem 1** - Find R for v = 123 mph and $\\theta$ = 1000 arc minutes"
   ]
  },
  {
   "cell_type": "code",
   "execution_count": 2,
   "metadata": {},
   "outputs": [
    {
     "name": "stdout",
     "output_type": "stream",
     "text": [
      "\n",
      "The range of a projectile launched with a velocity of 123.0 mi / h at an angle of 1000.0 arcmin\n",
      "is 169.4 m\n",
      "\n"
     ]
    }
   ],
   "source": [
    "v1= 123 * imperial.mi/u.hr\n",
    "theta = 1000 * u.arcmin\n",
    "def projectile_range(velocity,angle):\n",
    "    Radius = velocity**2*np.sin(2*angle)/const.g0\n",
    "    return Radius\n",
    "r1 = projectile_range(v1,theta).decompose()\n",
    "answer = (\n",
    "'''\n",
    "The range of a projectile launched with a velocity of {0:s} at an angle of {1:s}\n",
    "is {2:.1f}\n",
    "'''\n",
    ").format(v1,theta,r1)\n",
    "print(answer)"
   ]
  },
  {
   "cell_type": "markdown",
   "metadata": {},
   "source": [
    "**Problem 2** - How fast do you have to throw a football at 33.3 degrees so that is goes exactly 100 yards? Express your answer in mph"
   ]
  },
  {
   "cell_type": "code",
   "execution_count": 3,
   "metadata": {},
   "outputs": [
    {
     "name": "stdout",
     "output_type": "stream",
     "text": [
      "You have to throw a ball at the speed of 69.923 mi / h at an angle of 33.3 degrees to have it travel 100 yards.\n"
     ]
    }
   ],
   "source": [
    "theta2 = 33.3 * u.deg\n",
    "distance2 = 100 * imperial.yd\n",
    "#SOH CAH TOA\n",
    "velocity2 = np.sqrt(const.g0*distance2/(2*np.sin(theta2)*np.cos(theta2)))\n",
    "answer2 = velocity2.to(imperial.mi/u.hour)\n",
    "print(\"You have to throw a ball at the speed of {0:.3f} at an angle of 33.3 degrees to have it travel 100 yards.\".format(answer2))"
   ]
  },
  {
   "cell_type": "markdown",
   "metadata": {},
   "source": [
    "### Kepler's third law can be expressed as:\n",
    "\n",
    "$$ T^2 = \\left( {{4\\pi^2} \\over {GM}} \\right)\\ r^3 $$\n",
    "\n",
    "Where __T__ is the orbial period of an object at distance (__r__) from the center of an object of mass (__M__)."
   ]
  },
  {
   "cell_type": "markdown",
   "metadata": {},
   "source": [
    "And the velocity of an object in orbit is\n",
    "\n",
    "$$ v=\\sqrt{GM\\over r} $$"
   ]
  },
  {
   "cell_type": "markdown",
   "metadata": {},
   "source": [
    "**Problem 3** - Calculate the orbital period of International Space Station (ISS). ISS orbits 254 miles above the **surface** of the Earth. Expess your answer in minutes (make sure your answer makes sense!)."
   ]
  },
  {
   "cell_type": "code",
   "execution_count": 4,
   "metadata": {},
   "outputs": [
    {
     "name": "stdout",
     "output_type": "stream",
     "text": [
      "The orbital period of the ISS is 92.74 min.\n"
     ]
    }
   ],
   "source": [
    "orbital_dis = 254 * imperial.mi + const.R_earth\n",
    "orbital_period = np.sqrt(4*np.pi**2/(const.G*const.M_earth) * orbital_dis**3)\n",
    "orbital_period = orbital_period.decompose()\n",
    "orb_period = orbital_period.to(u.min)\n",
    "print(\"The orbital period of the ISS is {0:.2f}.\".format(orb_period))"
   ]
  },
  {
   "cell_type": "markdown",
   "metadata": {},
   "source": [
    "**Problem 4** - Calculate the velocity of ISS. Expess your answer in km/s and mph."
   ]
  },
  {
   "cell_type": "code",
   "execution_count": 5,
   "metadata": {},
   "outputs": [
    {
     "name": "stdout",
     "output_type": "stream",
     "text": [
      "The orbital velocity of the ISS is 7.66 km / s or 17143.03 mi / h.\n"
     ]
    }
   ],
   "source": [
    "orbital_velocity = np.sqrt(const.G * const.M_earth/orbital_dis)\n",
    "orbital_velocity = orbital_velocity.decompose()\n",
    "answer4 = orbital_velocity.to(u.km / u.s)\n",
    "print(\"The orbital velocity of the ISS is {0:.2f} or {1:.2f}.\".format(answer4,answer4.to(imperial.mi/u.hr)))"
   ]
  },
  {
   "cell_type": "markdown",
   "metadata": {},
   "source": [
    "**Problem 5** - The Procliamer's song [500 miles](https://youtu.be/MJuyn0WAYNI?t=27s) has a duration of 3 minutes and 33 seconds. Calculate at what altitude, above the Earth's surface, you would have to orbit to go 1000 miles in this time. Express your answer in units of the alititude of the ISS above Earth's surface."
   ]
  },
  {
   "cell_type": "code",
   "execution_count": 6,
   "metadata": {},
   "outputs": [
    {
     "name": "stdout",
     "output_type": "stream",
     "text": [
      "In order to travel 1,000 miles in 3 minutes and 33 seconds, you would have to orbit at a height 17.081 ISS orbits.\n"
     ]
    }
   ],
   "source": [
    "#time in seconds\n",
    "ISS_distance = u.def_unit(\"ISS orbits\", 254*imperial.mi)\n",
    "time = (3*60 + 33) * u.s\n",
    "distance = 1000*imperial.mi\n",
    "velocity = distance/time\n",
    "r = const.G * const.M_earth / velocity**2\n",
    "answer5 = r.to(ISS_distance)\n",
    "print(\"In order to travel 1,000 miles in 3 minutes and 33 seconds, you would have to orbit at a height {0:.3f}.\".format(answer5))"
   ]
  },
  {
   "cell_type": "markdown",
   "metadata": {},
   "source": [
    "### The Power being received by a solar panel in space can be expressed as:\n",
    "\n",
    "$$ I\\  =\\ {{L_{\\odot}} \\over {4 \\pi d^2}}\\ \\varepsilon$$\n",
    "\n",
    "Where __I__ is the power __per unit area__ at a distance (__d__) from the Sun, and $\\varepsilon$ is the efficiency of the solar panel.\n",
    "\n",
    "The solar panels that power spacecraft have an efficiency of about 40%."
   ]
  },
  {
   "cell_type": "markdown",
   "metadata": {},
   "source": [
    "**Problem 6** -  The [New Horizons](http://pluto.jhuapl.edu/) spacecraft requires 220 Watts of power.\n",
    "\n",
    "Calculate the area of a solar panel that would be needed to power New Horizons at a distance of 1 AU from the Sun."
   ]
  },
  {
   "cell_type": "code",
   "execution_count": 7,
   "metadata": {},
   "outputs": [
    {
     "name": "stdout",
     "output_type": "stream",
     "text": [
      "The New Horizons spacecraft would need a solar panel with an area of 0.40 m^2 to power itself using the Sun.\n"
     ]
    }
   ],
   "source": [
    "sp_eff = 0.4\n",
    "#Power that a solar panel gets from our sun\n",
    "def SP_power(distance,sp_efficiency):\n",
    "    tot_power = const.L_sun / (4*np.pi*distance**2)\n",
    "    return tot_power*sp_efficiency\n",
    "\n",
    "power_per_area = SP_power(const.au,sp_eff)\n",
    "area = 220*u.W/power_per_area\n",
    "print(\"The New Horizons spacecraft would need a solar panel with an area of {0:.2f} m^2 to power itself using the Sun.\".format(area.value))\n"
   ]
  },
  {
   "cell_type": "markdown",
   "metadata": {},
   "source": [
    "**Problem 7** - Express your answer in units of the area of a piece of US letter sized paper (8.5 in x 11 in)."
   ]
  },
  {
   "cell_type": "code",
   "execution_count": 8,
   "metadata": {},
   "outputs": [
    {
     "name": "stdout",
     "output_type": "stream",
     "text": [
      "The area of the solar would be 6.70 Sheets of Paper.\n"
     ]
    }
   ],
   "source": [
    "paper = u.def_unit(\"Sheets of Paper\", 8.5*imperial.inch * 11*imperial.inch)\n",
    "print(\"The area of the solar would be {0:.2f}.\".format(area.to(paper)))"
   ]
  },
  {
   "cell_type": "markdown",
   "metadata": {},
   "source": [
    "**Problem 8** - Same question as above but now a d = 30 AU.\n",
    "\n",
    "Express you answer in US letter sized paper"
   ]
  },
  {
   "cell_type": "code",
   "execution_count": 9,
   "metadata": {},
   "outputs": [
    {
     "name": "stdout",
     "output_type": "stream",
     "text": [
      "The area of the solar would be 6028.58 Sheets of Paper at 30 au.\n"
     ]
    }
   ],
   "source": [
    "\n",
    "power_per_area2 = SP_power(30*const.au,sp_eff)\n",
    "area2 = 220*u.W/power_per_area2\n",
    "print(\"The area of the solar would be {0:.2f} at 30 au.\".format(area2.to(paper)))"
   ]
  },
  {
   "cell_type": "markdown",
   "metadata": {},
   "source": [
    "**Problem 9** - The main part of the Oort cloud is thought to be at a distance of about 10,000 AU.\n",
    "\n",
    "Calculate the size of the solar panel New Horizons would need to operate in the Oort cloud.\n",
    "\n",
    "Express your answer in units of the area of an American football field (120 yd x 53.3 yd)."
   ]
  },
  {
   "cell_type": "code",
   "execution_count": 10,
   "metadata": {},
   "outputs": [
    {
     "name": "stdout",
     "output_type": "stream",
     "text": [
      "The area of the solar would be 7555.63 American Football Fields at the Oort Cloud.\n"
     ]
    }
   ],
   "source": [
    "football_field = u.def_unit(\"American Football Fields\", 120*imperial.yd * 53.3*imperial.yd)\n",
    "\n",
    "power_per_area3 = SP_power(10000*const.au,sp_eff)\n",
    "area3 = 220*u.W/power_per_area3\n",
    "print(\"The area of the solar would be {0:.2f} at the Oort Cloud.\".format(area3.to(football_field)))"
   ]
  },
  {
   "cell_type": "markdown",
   "metadata": {},
   "source": [
    "**Problem 10** - Calculate the maximum distance from the Sun where a solar panel of 1 football field can power the New Horizons spacecraft. Express your answer in AU."
   ]
  },
  {
   "cell_type": "code",
   "execution_count": 11,
   "metadata": {},
   "outputs": [
    {
     "name": "stdout",
     "output_type": "stream",
     "text": [
      "The distance for the area needed to power the spacecraft to be 1 American football is 115.04 AU\n"
     ]
    }
   ],
   "source": [
    "value = np.sqrt(football_field*const.L_sun*0.4/(220*u.W*4*np.pi))\n",
    "value_au = value.to(u.au)\n",
    "\n",
    "print(\"The distance for the area needed to power the spacecraft to be 1 American football is {0:.2f}\".format(value_au))"
   ]
  },
  {
   "cell_type": "markdown",
   "metadata": {},
   "source": [
    "### Luminosity\n",
    "\n",
    "An accretion disk that rotates around a black hole has a total luminosity that can be approximated as:\n",
    "\n",
    "$$\n",
    "L_{disk}\\  =\\ \\frac{GM_{bh}\\dot{M}}{2r_{in}}\n",
    "$$\n",
    "\n",
    "Where r$_{in}$ is the distance from the center of the black hole to the inner edge of the\n",
    "accretion disk, and $\\dot{M}$ is the mass accretion rate."
   ]
  },
  {
   "cell_type": "markdown",
   "metadata": {},
   "source": [
    "**Problem 11** - Calculate the mass accretion rate ($\\dot{M}$) of an accretion disk around a $10^8$ solar mass balck hole with a luminosity of 5.7 $\\times$ 10$^{40}$ Watts, and a r$_{in}$ of 4.56 million miles. Express your answer in solar masses per year."
   ]
  },
  {
   "cell_type": "code",
   "execution_count": 12,
   "metadata": {},
   "outputs": [
    {
     "name": "stdout",
     "output_type": "stream",
     "text": [
      "The given black hole has an accretion rate of: 1.000 solMass / yr.\n"
     ]
    }
   ],
   "source": [
    "m_bh = 10**8 * const.M_sun\n",
    "l = 5.7e40 * u.W\n",
    "r_in = 4.56e6 * imperial.mi\n",
    "\n",
    "M = l*2*r_in/(const.G * m_bh)\n",
    "answer = M.to(u.solMass/u.year)\n",
    "print(\"The given black hole has an accretion rate of: {0:.3f}.\".format(answer))"
   ]
  },
  {
   "cell_type": "markdown",
   "metadata": {},
   "source": [
    "### Earth?\n",
    "\n",
    "The self gravitational potential energy of the Earth is:\n",
    "\n",
    "$$ \\large\n",
    "PE \\ = \\ \\frac{3}{5} \\cdot \\frac{GM_{\\oplus}^2}{R_{\\oplus}}\n",
    "$$  \n",
    "\n",
    "This is the amount of energy you need to give the Earth to move all of its components pieces infinitely far away (i.e. to destroy it!)."
   ]
  },
  {
   "cell_type": "markdown",
   "metadata": {},
   "source": [
    "**Problem 12** - Calculate how massive an object you whould have to hit the Earth with at 45,000 mph to destroy the Earth. Express your answer in Earth masses."
   ]
  },
  {
   "cell_type": "code",
   "execution_count": 13,
   "metadata": {},
   "outputs": [
    {
     "name": "stdout",
     "output_type": "stream",
     "text": [
      "In order to destroy the Earth with an object moving at 45000.0 mi / h it would need to weigh 0.185 earthMass.\n"
     ]
    }
   ],
   "source": [
    "PE = 3/5 * const.G*const.M_earth**2/const.R_earth\n",
    "velocity = 45000 * imperial.mi/u.hour\n",
    "mass = 2*PE/velocity**2\n",
    "answer12 = mass.to(u.earthMass)\n",
    "print(\"In order to destroy the Earth with an object moving at {0:.1f} it would need to weigh {1:.3f}.\".format(velocity,answer12))"
   ]
  },
  {
   "cell_type": "markdown",
   "metadata": {
    "collapsed": true
   },
   "source": [
    "### Due Mon Feb 4 - 1 pm\n",
    "- `Make sure to change the filename to your name!`\n",
    "- `Make sure to change the Title to your name!`\n",
    "- `Save your file to HTML: File -> Download as -> HTML`\n",
    "- `Upload the .html file to Canvas`"
   ]
  },
  {
   "cell_type": "code",
   "execution_count": null,
   "metadata": {},
   "outputs": [],
   "source": []
  }
 ],
 "metadata": {
  "kernelspec": {
   "display_name": "Python 3",
   "language": "python",
   "name": "python3"
  },
  "language_info": {
   "codemirror_mode": {
    "name": "ipython",
    "version": 3
   },
   "file_extension": ".py",
   "mimetype": "text/x-python",
   "name": "python",
   "nbconvert_exporter": "python",
   "pygments_lexer": "ipython3",
   "version": "3.7.2"
  }
 },
 "nbformat": 4,
 "nbformat_minor": 1
}
