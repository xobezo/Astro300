{
 "cells": [
  {
   "cell_type": "markdown",
   "metadata": {},
   "source": [
    "## Xavier Obezo - Reading Data"
   ]
  },
  {
   "cell_type": "code",
   "execution_count": 1,
   "metadata": {},
   "outputs": [],
   "source": [
    "import numpy as np\n",
    "import pandas as pd"
   ]
  },
  {
   "cell_type": "markdown",
   "metadata": {},
   "source": [
    "### Read in the datafile `./Data/MainBelt.csv`"
   ]
  },
  {
   "cell_type": "code",
   "execution_count": 2,
   "metadata": {},
   "outputs": [],
   "source": [
    "column_names = ['Name','Absolute Magnitude','Geometric Albedo']\n",
    "belt_table = pd.read_csv('./Data/MainBelt.csv',comment='#',header=None,names = column_names)"
   ]
  },
  {
   "cell_type": "markdown",
   "metadata": {},
   "source": [
    "### Write a function called `find_diameter` to compute the Diameters of the Main Belt Asteroids (MBAs)\n",
    "\n",
    "* The function takes 2 arguments: an absolute magnitude and an albedo `(H, A)`\n",
    "* The function returns the diameter of the asteroid\n",
    "* The largest asteroid should have a diameter of ~ 1000 km"
   ]
  },
  {
   "cell_type": "code",
   "execution_count": 3,
   "metadata": {},
   "outputs": [],
   "source": [
    "def find_diameter(H,A):\n",
    "    d=(1329/np.sqrt(A)) * 10**(-0.2*H)\n",
    "    return d"
   ]
  },
  {
   "cell_type": "code",
   "execution_count": 4,
   "metadata": {},
   "outputs": [],
   "source": [
    "diameters = find_diameter(belt_table['Absolute Magnitude'],belt_table['Geometric Albedo'])"
   ]
  },
  {
   "cell_type": "code",
   "execution_count": null,
   "metadata": {},
   "outputs": [],
   "source": []
  },
  {
   "cell_type": "markdown",
   "metadata": {},
   "source": [
    "### Add a `Diameter` column to the data table"
   ]
  },
  {
   "cell_type": "code",
   "execution_count": 5,
   "metadata": {},
   "outputs": [],
   "source": [
    "belt_table['Diameter']= diameters"
   ]
  },
  {
   "cell_type": "code",
   "execution_count": null,
   "metadata": {},
   "outputs": [],
   "source": []
  },
  {
   "cell_type": "markdown",
   "metadata": {},
   "source": [
    "### Write a function called `find_mass` to compute the Masses of the MBAs. Assume $\\rho$ = 3,000 kg/m$^3$\n",
    "\n",
    "* The function takes 2 arguments: a diameter and a density `(diameter, density)`\n",
    "* The function returns the mass of the asteroid\n",
    "* The most massive asteroid should have a mass of ~ 1e21 kg"
   ]
  },
  {
   "cell_type": "code",
   "execution_count": 6,
   "metadata": {},
   "outputs": [],
   "source": [
    "def sphere_volume(radius):\n",
    "    return ((4/3)*np.pi*radius**3)\n",
    "    "
   ]
  },
  {
   "cell_type": "code",
   "execution_count": 7,
   "metadata": {},
   "outputs": [],
   "source": [
    "def find_mass(diameter,density):\n",
    "    #diameter is in km and density is in meters\n",
    "    radius = (diameter*1000)/2\n",
    "    volume = sphere_volume(radius)\n",
    "    mass = volume*density\n",
    "    return mass"
   ]
  },
  {
   "cell_type": "code",
   "execution_count": null,
   "metadata": {},
   "outputs": [],
   "source": []
  },
  {
   "cell_type": "markdown",
   "metadata": {},
   "source": [
    "### Add a `Mass` column to the data table"
   ]
  },
  {
   "cell_type": "code",
   "execution_count": 8,
   "metadata": {},
   "outputs": [],
   "source": [
    "diameter = belt_table['Diameter']\n",
    "masses = find_mass(diameter,3000)"
   ]
  },
  {
   "cell_type": "code",
   "execution_count": 9,
   "metadata": {},
   "outputs": [],
   "source": [
    "belt_table['Mass']= masses"
   ]
  },
  {
   "cell_type": "markdown",
   "metadata": {},
   "source": [
    "### List the names of the 5 most massive MBAs"
   ]
  },
  {
   "cell_type": "code",
   "execution_count": 34,
   "metadata": {},
   "outputs": [
    {
     "name": "stdout",
     "output_type": "stream",
     "text": [
      "The 5 largest asteroids are (starting with the largest):\n",
      "At number 1 is 1 Ceres with a mass of 1.35e+21 kg\n",
      "At number 2 is 2 Pallas with a mass of 1.94e+20 kg\n",
      "At number 3 is 4 Vesta with a mass of 1.61e+20 kg\n",
      "At number 4 is 10 Hygiea with a mass of 1.06e+20 kg\n",
      "At number 5 is 511 Davida (1903 LU) with a mass of 5.45e+19 kg\n"
     ]
    }
   ],
   "source": [
    "sorted_table = belt_table.sort_values(['Mass'],ascending=False).reset_index(drop=True)\n",
    "\n",
    "sorted_five_largest=sorted_table[0:5].reset_index(drop=True)\n",
    "\n",
    "#Start of the Strings Homework\n",
    "print(\"The 5 largest asteroids are (starting with the largest):\")\n",
    "for index,value in enumerate(sorted_five_largest['Name']):\n",
    "    looped_mass = sorted_five_largest['Mass'][index]\n",
    "    looped_name = sorted_five_largest['Name'][index].strip()\n",
    "    print(\"At number {0:d} is {1:s} with a mass of {2:.2e} kg\".format(index+1,looped_name,looped_mass))\n"
   ]
  },
  {
   "cell_type": "markdown",
   "metadata": {},
   "source": [
    "### List the names of the 5 least massive MBAs"
   ]
  },
  {
   "cell_type": "code",
   "execution_count": 33,
   "metadata": {},
   "outputs": [
    {
     "name": "stdout",
     "output_type": "stream",
     "text": [
      "The 5 smallest asteroids are (starting with the largest):\n",
      "At number 1 is 26604 (2000 FO25) with a mass of 2.70e+14 kg\n",
      "At number 2 is 4335 Verona (1983 VC7) with a mass of 3.25e+14 kg\n",
      "At number 3 is 3338 Richter (1973 UX5) with a mass of 3.52e+14 kg\n",
      "At number 4 is 4121 Carlin (1986 JH) with a mass of 3.78e+14 kg\n",
      "At number 5 is 6295 Schmoll (1988 CF3) with a mass of 3.95e+14 kg\n"
     ]
    }
   ],
   "source": [
    "sorted_table1 = belt_table.sort_values(['Mass']).reset_index(drop=True)\n",
    "sorted_five_small=sorted_table1[0:5].reset_index(drop=True)\n",
    "\n",
    "#Start of the Strings Homework\n",
    "print(\"The 5 smallest asteroids are (starting with the largest):\")\n",
    "for index,value in enumerate(sorted_five_small['Name']):\n",
    "    looped_mass = sorted_five_small['Mass'][index]\n",
    "    looped_name = sorted_five_small['Name'][index].strip()\n",
    "    print(\"At number {0:d} is {1:s} with a mass of {2:.2e} kg\".format(index+1,looped_name,looped_mass))\n"
   ]
  },
  {
   "cell_type": "markdown",
   "metadata": {},
   "source": [
    "### Determine the total mass of all of the MBAs"
   ]
  },
  {
   "cell_type": "code",
   "execution_count": 12,
   "metadata": {},
   "outputs": [
    {
     "data": {
      "text/plain": [
       "3.146177625451557e+21"
      ]
     },
     "execution_count": 12,
     "metadata": {},
     "output_type": "execute_result"
    }
   ],
   "source": [
    "total_mass = belt_table['Mass'].sum()\n",
    "total_mass"
   ]
  },
  {
   "cell_type": "markdown",
   "metadata": {},
   "source": [
    "### Determine the fraction of the total mass contained in the 5 largest MBAs"
   ]
  },
  {
   "cell_type": "code",
   "execution_count": 38,
   "metadata": {},
   "outputs": [],
   "source": [
    "largest = sorted_table[0:5]['Mass'].sum()\n",
    "five_most_percent = (largest/total_mass)*100"
   ]
  },
  {
   "cell_type": "markdown",
   "metadata": {},
   "source": [
    "### How does the total mass of the MBAs compare to the mass of the Moon ($7.35\\ \\times\\ 10^{22}$ kg)?\n",
    "\n",
    "* Compute Total MBA Mass / Lunar Mass"
   ]
  },
  {
   "cell_type": "code",
   "execution_count": 46,
   "metadata": {},
   "outputs": [],
   "source": [
    "mass_of_moon_percent = (total_mass/(7.35*10**22))*100\n",
    "mass_of_moon_mult = ((7.35*10**22)/total_mass)"
   ]
  },
  {
   "cell_type": "code",
   "execution_count": 49,
   "metadata": {},
   "outputs": [
    {
     "name": "stdout",
     "output_type": "stream",
     "text": [
      "\n",
      "The total mass of the main belt of the asteroid belt is 3.15e+21 kg, of which 59.40% of\n",
      "the total mass is contained in the five most massive asteroids. The Moon is 23.36 times\n",
      "more massive than the total mass of the main belt asteroids.\n",
      "    \n"
     ]
    }
   ],
   "source": [
    "#Summary\n",
    "print(\n",
    "    \"\"\"\n",
    "The total mass of the main belt of the asteroid belt is {0:.2e} kg, of which {1:.2f}% of\n",
    "the total mass is contained in the five most massive asteroids. The Moon is {2:.2f} times\n",
    "more massive than the total mass of the main belt asteroids.\n",
    "    \"\"\"\n",
    ".format(total_mass,five_most_percent,mass_of_moon_mult))"
   ]
  },
  {
   "cell_type": "markdown",
   "metadata": {},
   "source": [
    "### Due Mon Jan 28 - 1pm\n",
    "- `Make sure to change the filename to your name!`\n",
    "- `Make sure to change the Title to your name!`\n",
    "- `Save notebook as .html: File -> Download as -> HTML (.html)`\n",
    "- `Upload .html and .ipynb to Canvas`"
   ]
  },
  {
   "cell_type": "markdown",
   "metadata": {},
   "source": [
    "***\n",
    "\n",
    "## Absolute Magnitude, Size and Mass - Solar System Objects\n",
    "\n",
    "The absolute magnitude **H** of a solar system object is the magnitude that it would have if it was 1 AU from the Earth and 1 AU from the Sun while having a phase angle of 0 degrees. Remember, astronomical magnitudes are \"backwards\".  The magnitude of a bright object is *less* than the magnitude of a dimmer object.\n",
    "\n",
    "The phase angle **$\\theta$** in astronomical observations is the angle between the light incident onto an observed object and the light reflected from the object. In the context of astronomical observations, this is usually the angle $\\angle$ Sun-object-observer.\n",
    "\n",
    "<p align=\"center\"> \n",
    "<img src=\"./images/Phase.jpg\">\n",
    "</p>\n",
    "\n",
    "It is actually impossible for an object to be 1 AU from the Earth and 1 AU from the Sun while having a phase angle of 0 degrees. The Sun and the Earth would occupy the same point.  However, this is the definition of **H**.  Please note, that the definition of absolute magnitude for solar system objects is *very* different from the definition of absolute magnitude used for stars.\n",
    "\n",
    "The Absolute magnitude of an object is related to the physical size of the object via the equation:\n",
    "\n",
    "$$\\large D\\ (\\textrm{in km}) = \\frac{1329}{\\sqrt{A}}\\  10^{-0.2H}$$\n",
    "\n",
    "Where **D** is the diameter of the object in kilometers and **A** is the geometric albedo of the object. \n",
    "\n",
    "The geometric albedo **A** of an astronomical body is the ratio of its actual brightness at zero phase angle (i.e., as seen from the light source) to that of an idealized flat, fully reflecting, diffusively scattering disk with the same cross-section.\n",
    "\n",
    "Perfect reflectors of light have A = 1 and perfect absorbers have **A** = 0. Typical asteroids have a wide range of values: 0.02 $<$ A $<$ 0.8.\n",
    "\n",
    "Once we have the diameter of the object, we can determine the mass if we know the density ($\\rho$).\n",
    "\n",
    "$ \\large \\mathrm{Mass} = \\rho \\cdot \\mathrm{Volume} = \\rho \\cdot \\frac{4}{3} \\pi r^3 \\ = \\ \\rho \\cdot \\frac{1}{6} \\pi D^3 $\n",
    "\n",
    "This assumes that the object is spherical (this is **not** a very good assumption for asteroids)."
   ]
  },
  {
   "cell_type": "markdown",
   "metadata": {},
   "source": [
    "----\n",
    "\n",
    "# <font color=blue>Ravenclaw</font>\n",
    "\n",
    "* The file `./Data/M15.dat` contains data for the magnitude and color of stars in the globular cluster M15\n",
    "* The file `./Data/M15.readme` decsribes the structure of datafile.\n"
   ]
  },
  {
   "cell_type": "code",
   "execution_count": 15,
   "metadata": {},
   "outputs": [],
   "source": [
    "column_names = ['ID Number','Right Ascension','Declination','Visual Magnitude','UV Band','Note For UV']\n",
    "m15_table = pd.read_csv('./Data/M15.dat',comment='#',skipinitialspace=True,delimiter = \" \",header=None,names = column_names)"
   ]
  },
  {
   "cell_type": "code",
   "execution_count": null,
   "metadata": {},
   "outputs": [],
   "source": []
  },
  {
   "cell_type": "markdown",
   "metadata": {},
   "source": [
    "### Write a function called: `find_bright_stars`\n",
    "\n",
    "* The function takes 2 arguments: a pandas table name and a magnitude `(table, mag)`\n",
    "* The function returns the number of stars in `table` that are brighter than `mag`\n",
    "* Show that `find_bright_stars(M15_Table, 15)` will output `95`"
   ]
  },
  {
   "cell_type": "markdown",
   "metadata": {},
   "source": [
    "This challenge wasn't too hard. Just used a mask to determine which stars had a higher magnitude, or lower number. Then I just counted the length of the mask."
   ]
  },
  {
   "cell_type": "code",
   "execution_count": 16,
   "metadata": {},
   "outputs": [],
   "source": [
    "def find_bright_stars(table,mag):\n",
    "    mask = np.where(table['Visual Magnitude'] < mag)\n",
    "    #I'm not totally sure why I have to ask for the 0th place\n",
    "    return len(mask[0])"
   ]
  },
  {
   "cell_type": "code",
   "execution_count": 17,
   "metadata": {},
   "outputs": [
    {
     "data": {
      "text/plain": [
       "95"
      ]
     },
     "execution_count": 17,
     "metadata": {},
     "output_type": "execute_result"
    }
   ],
   "source": [
    "find_bright_stars(m15_table,15)"
   ]
  },
  {
   "cell_type": "markdown",
   "metadata": {},
   "source": [
    "----\n",
    "\n",
    "### <font color=blue>Hermione Granger level</font>\n",
    "\n",
    "\n",
    "### Write a function to estimate the number of [F-type main sequence stars](https://en.wikipedia.org/wiki/F-type_main-sequence_star) in the M15 dataset\n",
    "\n",
    "* The [distance modulus](https://en.wikipedia.org/wiki/Distance_modulus) of M15 = 15.4\n",
    "* The characteristic of the stars [78 Ursae Majoris](https://en.wikipedia.org/wiki/78_Ursae_Majoris) and [Iota Piscium](https://en.wikipedia.org/wiki/Iota_Piscium) are good standards."
   ]
  },
  {
   "cell_type": "markdown",
   "metadata": {},
   "source": [
    "During my research I found that F-type stars have an absolute magntitude between 1.4 and 5.1. You gave us the distance modulus and apparent magnitude so I used that to get the absolute magnitude."
   ]
  },
  {
   "cell_type": "code",
   "execution_count": 18,
   "metadata": {},
   "outputs": [
    {
     "ename": "TypeError",
     "evalue": "absolute_magnitude() missing 1 required positional argument: 'distance_mod'",
     "output_type": "error",
     "traceback": [
      "\u001b[0;31m---------------------------------------------------------------------------\u001b[0m",
      "\u001b[0;31mTypeError\u001b[0m                                 Traceback (most recent call last)",
      "\u001b[0;32m<ipython-input-18-f75831868072>\u001b[0m in \u001b[0;36m<module>\u001b[0;34m\u001b[0m\n\u001b[1;32m      5\u001b[0m \u001b[0;34m\u001b[0m\u001b[0m\n\u001b[1;32m      6\u001b[0m \u001b[0;31m#Testing\u001b[0m\u001b[0;34m\u001b[0m\u001b[0;34m\u001b[0m\u001b[0;34m\u001b[0m\u001b[0m\n\u001b[0;32m----> 7\u001b[0;31m \u001b[0mabs_table\u001b[0m \u001b[0;34m=\u001b[0m \u001b[0mabsolute_magnitude\u001b[0m\u001b[0;34m(\u001b[0m\u001b[0mm15_table\u001b[0m\u001b[0;34m)\u001b[0m\u001b[0;34m\u001b[0m\u001b[0;34m\u001b[0m\u001b[0m\n\u001b[0m\u001b[1;32m      8\u001b[0m \u001b[0mmask1\u001b[0m \u001b[0;34m=\u001b[0m \u001b[0mnp\u001b[0m\u001b[0;34m.\u001b[0m\u001b[0mwhere\u001b[0m\u001b[0;34m(\u001b[0m\u001b[0;34m(\u001b[0m\u001b[0mabs_table\u001b[0m \u001b[0;34m>\u001b[0m \u001b[0;36m1.4\u001b[0m\u001b[0;34m)\u001b[0m \u001b[0;34m&\u001b[0m \u001b[0;34m(\u001b[0m\u001b[0mabs_table\u001b[0m \u001b[0;34m<\u001b[0m \u001b[0;36m5.1\u001b[0m\u001b[0;34m)\u001b[0m\u001b[0;34m)\u001b[0m\u001b[0;34m\u001b[0m\u001b[0;34m\u001b[0m\u001b[0m\n\u001b[1;32m      9\u001b[0m \u001b[0mlen\u001b[0m\u001b[0;34m(\u001b[0m\u001b[0mmask1\u001b[0m\u001b[0;34m[\u001b[0m\u001b[0;36m0\u001b[0m\u001b[0;34m]\u001b[0m\u001b[0;34m)\u001b[0m\u001b[0;34m\u001b[0m\u001b[0;34m\u001b[0m\u001b[0m\n",
      "\u001b[0;31mTypeError\u001b[0m: absolute_magnitude() missing 1 required positional argument: 'distance_mod'"
     ]
    }
   ],
   "source": [
    "def absolute_magnitude(table,distance_mod):\n",
    "    app_mag = table['Visual Magnitude']\n",
    "    abs_mag = distance_mod - app_mag\n",
    "    return abs_mag\n",
    "\n",
    "#Testing\n",
    "abs_table = absolute_magnitude(m15_table)\n",
    "mask1 = np.where((abs_table > 1.4) & (abs_table < 5.1))\n",
    "len(mask1[0])"
   ]
  },
  {
   "cell_type": "markdown",
   "metadata": {},
   "source": [
    "Once I had the absolute magnitude I just had to set the rules for what an f type star is."
   ]
  },
  {
   "cell_type": "code",
   "execution_count": null,
   "metadata": {},
   "outputs": [],
   "source": [
    "#Quick Note: The table is the original one. Finding the absolute mag is\n",
    "## part of the functions job.\n",
    "def find_f_stars(table):\n",
    "    abs_table = absolute_magnitude(table)\n",
    "    mask1 = np.where((abs_table > 1.4) & (abs_table < 5.1))\n",
    "    return len(mask1[0])"
   ]
  },
  {
   "cell_type": "code",
   "execution_count": null,
   "metadata": {},
   "outputs": [],
   "source": [
    "find_f_stars(m15_table)"
   ]
  }
 ],
 "metadata": {
  "anaconda-cloud": {},
  "kernelspec": {
   "display_name": "Python 3",
   "language": "python",
   "name": "python3"
  },
  "language_info": {
   "codemirror_mode": {
    "name": "ipython",
    "version": 3
   },
   "file_extension": ".py",
   "mimetype": "text/x-python",
   "name": "python",
   "nbconvert_exporter": "python",
   "pygments_lexer": "ipython3",
   "version": "3.7.2"
  }
 },
 "nbformat": 4,
 "nbformat_minor": 1
}
